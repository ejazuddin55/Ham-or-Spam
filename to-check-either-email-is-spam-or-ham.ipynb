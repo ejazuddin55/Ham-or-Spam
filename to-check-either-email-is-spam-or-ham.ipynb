{
 "cells": [
  {
   "cell_type": "code",
   "execution_count": 1,
   "id": "complete-samba",
   "metadata": {
    "_cell_guid": "b1076dfc-b9ad-4769-8c92-a6c4dae69d19",
    "_uuid": "8f2839f25d086af736a60e9eeb907d3b93b6e0e5",
    "execution": {
     "iopub.execute_input": "2021-05-04T23:05:55.841182Z",
     "iopub.status.busy": "2021-05-04T23:05:55.840422Z",
     "iopub.status.idle": "2021-05-04T23:05:55.854836Z",
     "shell.execute_reply": "2021-05-04T23:05:55.853903Z"
    },
    "papermill": {
     "duration": 0.045214,
     "end_time": "2021-05-04T23:05:55.855081",
     "exception": false,
     "start_time": "2021-05-04T23:05:55.809867",
     "status": "completed"
    },
    "tags": []
   },
   "outputs": [
    {
     "name": "stdout",
     "output_type": "stream",
     "text": [
      "/kaggle/input/sms-spam-collection-dataset/spam.csv\n"
     ]
    }
   ],
   "source": [
    "# This Python 3 environment comes with many helpful analytics libraries installed\n",
    "# It is defined by the kaggle/python Docker image: https://github.com/kaggle/docker-python\n",
    "# For example, here's several helpful packages to load\n",
    "\n",
    "import numpy as np # linear algebra\n",
    "import pandas as pd # data processing, CSV file I/O (e.g. pd.read_csv)\n",
    "\n",
    "# Input data files are available in the read-only \"../input/\" directory\n",
    "# For example, running this (by clicking run or pressing Shift+Enter) will list all files under the input directory\n",
    "\n",
    "import os\n",
    "for dirname, _, filenames in os.walk('/kaggle/input'):\n",
    "    for filename in filenames:\n",
    "        print(os.path.join(dirname, filename))\n",
    "\n",
    "# You can write up to 20GB to the current directory (/kaggle/working/) that gets preserved as output when you create a version using \"Save & Run All\" \n",
    "# You can also write temporary files to /kaggle/temp/, but they won't be saved outside of the current session"
   ]
  },
  {
   "cell_type": "code",
   "execution_count": null,
   "id": "recovered-texture",
   "metadata": {
    "papermill": {
     "duration": 0.014117,
     "end_time": "2021-05-04T23:05:55.885103",
     "exception": false,
     "start_time": "2021-05-04T23:05:55.870986",
     "status": "completed"
    },
    "tags": []
   },
   "outputs": [],
   "source": []
  },
  {
   "cell_type": "code",
   "execution_count": 2,
   "id": "expanded-burden",
   "metadata": {
    "execution": {
     "iopub.execute_input": "2021-05-04T23:05:55.922902Z",
     "iopub.status.busy": "2021-05-04T23:05:55.922168Z",
     "iopub.status.idle": "2021-05-04T23:05:56.963944Z",
     "shell.execute_reply": "2021-05-04T23:05:56.964578Z"
    },
    "papermill": {
     "duration": 1.063978,
     "end_time": "2021-05-04T23:05:56.964951",
     "exception": false,
     "start_time": "2021-05-04T23:05:55.900973",
     "status": "completed"
    },
    "tags": []
   },
   "outputs": [
    {
     "data": {
      "text/html": [
       "<div>\n",
       "<style scoped>\n",
       "    .dataframe tbody tr th:only-of-type {\n",
       "        vertical-align: middle;\n",
       "    }\n",
       "\n",
       "    .dataframe tbody tr th {\n",
       "        vertical-align: top;\n",
       "    }\n",
       "\n",
       "    .dataframe thead th {\n",
       "        text-align: right;\n",
       "    }\n",
       "</style>\n",
       "<table border=\"1\" class=\"dataframe\">\n",
       "  <thead>\n",
       "    <tr style=\"text-align: right;\">\n",
       "      <th></th>\n",
       "      <th>v1</th>\n",
       "      <th>v2</th>\n",
       "    </tr>\n",
       "  </thead>\n",
       "  <tbody>\n",
       "    <tr>\n",
       "      <th>0</th>\n",
       "      <td>ham</td>\n",
       "      <td>Go until jurong point, crazy.. Available only ...</td>\n",
       "    </tr>\n",
       "    <tr>\n",
       "      <th>1</th>\n",
       "      <td>ham</td>\n",
       "      <td>Ok lar... Joking wif u oni...</td>\n",
       "    </tr>\n",
       "    <tr>\n",
       "      <th>2</th>\n",
       "      <td>spam</td>\n",
       "      <td>Free entry in 2 a wkly comp to win FA Cup fina...</td>\n",
       "    </tr>\n",
       "    <tr>\n",
       "      <th>3</th>\n",
       "      <td>ham</td>\n",
       "      <td>U dun say so early hor... U c already then say...</td>\n",
       "    </tr>\n",
       "    <tr>\n",
       "      <th>4</th>\n",
       "      <td>ham</td>\n",
       "      <td>Nah I don't think he goes to usf, he lives aro...</td>\n",
       "    </tr>\n",
       "  </tbody>\n",
       "</table>\n",
       "</div>"
      ],
      "text/plain": [
       "     v1                                                 v2\n",
       "0   ham  Go until jurong point, crazy.. Available only ...\n",
       "1   ham                      Ok lar... Joking wif u oni...\n",
       "2  spam  Free entry in 2 a wkly comp to win FA Cup fina...\n",
       "3   ham  U dun say so early hor... U c already then say...\n",
       "4   ham  Nah I don't think he goes to usf, he lives aro..."
      ]
     },
     "execution_count": 2,
     "metadata": {},
     "output_type": "execute_result"
    }
   ],
   "source": [
    "import pandas as pd\n",
    "import numpy as np\n",
    "import  matplotlib.pyplot as plt\n",
    "import seaborn as sns\n",
    "\n",
    "\n",
    "df = pd.read_csv(\"../input/sms-spam-collection-dataset/spam.csv\" , encoding=\"ISO-8859-1\")\n",
    "df\n",
    "df.drop(['Unnamed: 2','Unnamed: 3','Unnamed: 4'],axis=1,inplace=True)\n",
    "df.head()"
   ]
  },
  {
   "cell_type": "code",
   "execution_count": 3,
   "id": "flush-austin",
   "metadata": {
    "execution": {
     "iopub.execute_input": "2021-05-04T23:05:57.018973Z",
     "iopub.status.busy": "2021-05-04T23:05:57.018198Z",
     "iopub.status.idle": "2021-05-04T23:05:57.024670Z",
     "shell.execute_reply": "2021-05-04T23:05:57.025238Z"
    },
    "papermill": {
     "duration": 0.040936,
     "end_time": "2021-05-04T23:05:57.025462",
     "exception": false,
     "start_time": "2021-05-04T23:05:56.984526",
     "status": "completed"
    },
    "tags": []
   },
   "outputs": [
    {
     "data": {
      "text/html": [
       "<div>\n",
       "<style scoped>\n",
       "    .dataframe tbody tr th:only-of-type {\n",
       "        vertical-align: middle;\n",
       "    }\n",
       "\n",
       "    .dataframe tbody tr th {\n",
       "        vertical-align: top;\n",
       "    }\n",
       "\n",
       "    .dataframe thead th {\n",
       "        text-align: right;\n",
       "    }\n",
       "</style>\n",
       "<table border=\"1\" class=\"dataframe\">\n",
       "  <thead>\n",
       "    <tr style=\"text-align: right;\">\n",
       "      <th></th>\n",
       "      <th>spam</th>\n",
       "      <th>text</th>\n",
       "    </tr>\n",
       "  </thead>\n",
       "  <tbody>\n",
       "    <tr>\n",
       "      <th>0</th>\n",
       "      <td>ham</td>\n",
       "      <td>Go until jurong point, crazy.. Available only ...</td>\n",
       "    </tr>\n",
       "    <tr>\n",
       "      <th>1</th>\n",
       "      <td>ham</td>\n",
       "      <td>Ok lar... Joking wif u oni...</td>\n",
       "    </tr>\n",
       "    <tr>\n",
       "      <th>2</th>\n",
       "      <td>spam</td>\n",
       "      <td>Free entry in 2 a wkly comp to win FA Cup fina...</td>\n",
       "    </tr>\n",
       "    <tr>\n",
       "      <th>3</th>\n",
       "      <td>ham</td>\n",
       "      <td>U dun say so early hor... U c already then say...</td>\n",
       "    </tr>\n",
       "    <tr>\n",
       "      <th>4</th>\n",
       "      <td>ham</td>\n",
       "      <td>Nah I don't think he goes to usf, he lives aro...</td>\n",
       "    </tr>\n",
       "    <tr>\n",
       "      <th>...</th>\n",
       "      <td>...</td>\n",
       "      <td>...</td>\n",
       "    </tr>\n",
       "    <tr>\n",
       "      <th>5567</th>\n",
       "      <td>spam</td>\n",
       "      <td>This is the 2nd time we have tried 2 contact u...</td>\n",
       "    </tr>\n",
       "    <tr>\n",
       "      <th>5568</th>\n",
       "      <td>ham</td>\n",
       "      <td>Will Ì_ b going to esplanade fr home?</td>\n",
       "    </tr>\n",
       "    <tr>\n",
       "      <th>5569</th>\n",
       "      <td>ham</td>\n",
       "      <td>Pity, * was in mood for that. So...any other s...</td>\n",
       "    </tr>\n",
       "    <tr>\n",
       "      <th>5570</th>\n",
       "      <td>ham</td>\n",
       "      <td>The guy did some bitching but I acted like i'd...</td>\n",
       "    </tr>\n",
       "    <tr>\n",
       "      <th>5571</th>\n",
       "      <td>ham</td>\n",
       "      <td>Rofl. Its true to its name</td>\n",
       "    </tr>\n",
       "  </tbody>\n",
       "</table>\n",
       "<p>5572 rows × 2 columns</p>\n",
       "</div>"
      ],
      "text/plain": [
       "      spam                                               text\n",
       "0      ham  Go until jurong point, crazy.. Available only ...\n",
       "1      ham                      Ok lar... Joking wif u oni...\n",
       "2     spam  Free entry in 2 a wkly comp to win FA Cup fina...\n",
       "3      ham  U dun say so early hor... U c already then say...\n",
       "4      ham  Nah I don't think he goes to usf, he lives aro...\n",
       "...    ...                                                ...\n",
       "5567  spam  This is the 2nd time we have tried 2 contact u...\n",
       "5568   ham              Will Ì_ b going to esplanade fr home?\n",
       "5569   ham  Pity, * was in mood for that. So...any other s...\n",
       "5570   ham  The guy did some bitching but I acted like i'd...\n",
       "5571   ham                         Rofl. Its true to its name\n",
       "\n",
       "[5572 rows x 2 columns]"
      ]
     },
     "execution_count": 3,
     "metadata": {},
     "output_type": "execute_result"
    }
   ],
   "source": [
    "df= df.rename(columns={'v1':'spam','v2':'text'})\n",
    "df"
   ]
  },
  {
   "cell_type": "markdown",
   "id": "german-victim",
   "metadata": {
    "papermill": {
     "duration": 0.015544,
     "end_time": "2021-05-04T23:05:57.058073",
     "exception": false,
     "start_time": "2021-05-04T23:05:57.042529",
     "status": "completed"
    },
    "tags": []
   },
   "source": [
    "** **find out the percentage of ham and spam***"
   ]
  },
  {
   "cell_type": "code",
   "execution_count": 4,
   "id": "hungarian-heath",
   "metadata": {
    "execution": {
     "iopub.execute_input": "2021-05-04T23:05:57.099146Z",
     "iopub.status.busy": "2021-05-04T23:05:57.098084Z",
     "iopub.status.idle": "2021-05-04T23:05:57.105267Z",
     "shell.execute_reply": "2021-05-04T23:05:57.104629Z"
    },
    "papermill": {
     "duration": 0.031718,
     "end_time": "2021-05-04T23:05:57.105465",
     "exception": false,
     "start_time": "2021-05-04T23:05:57.073747",
     "status": "completed"
    },
    "tags": []
   },
   "outputs": [
    {
     "name": "stdout",
     "output_type": "stream",
     "text": [
      "ham percentage = 86.59368269921033 %\n"
     ]
    }
   ],
   "source": [
    "ham = df[df['spam']== 'ham']\n",
    "ham\n",
    "print ('ham percentage =', (len(ham))/len(df)*100,'%')"
   ]
  },
  {
   "cell_type": "code",
   "execution_count": 5,
   "id": "responsible-israeli",
   "metadata": {
    "execution": {
     "iopub.execute_input": "2021-05-04T23:05:57.145205Z",
     "iopub.status.busy": "2021-05-04T23:05:57.143947Z",
     "iopub.status.idle": "2021-05-04T23:05:57.151075Z",
     "shell.execute_reply": "2021-05-04T23:05:57.150479Z"
    },
    "papermill": {
     "duration": 0.02994,
     "end_time": "2021-05-04T23:05:57.151273",
     "exception": false,
     "start_time": "2021-05-04T23:05:57.121333",
     "status": "completed"
    },
    "tags": []
   },
   "outputs": [
    {
     "name": "stdout",
     "output_type": "stream",
     "text": [
      "spam percentage = 13.406317300789663 %\n"
     ]
    }
   ],
   "source": [
    "spam = df[df['spam']== 'spam']\n",
    "print ('spam percentage =', (len(spam))/len(df)*100,'%')"
   ]
  },
  {
   "cell_type": "markdown",
   "id": "heated-complement",
   "metadata": {
    "papermill": {
     "duration": 0.019326,
     "end_time": "2021-05-04T23:05:57.188063",
     "exception": false,
     "start_time": "2021-05-04T23:05:57.168737",
     "status": "completed"
    },
    "tags": []
   },
   "source": [
    "**ploting both spam and ham**"
   ]
  },
  {
   "cell_type": "code",
   "execution_count": 6,
   "id": "altered-struggle",
   "metadata": {
    "execution": {
     "iopub.execute_input": "2021-05-04T23:05:57.227519Z",
     "iopub.status.busy": "2021-05-04T23:05:57.226824Z",
     "iopub.status.idle": "2021-05-04T23:05:57.414664Z",
     "shell.execute_reply": "2021-05-04T23:05:57.414053Z"
    },
    "papermill": {
     "duration": 0.209934,
     "end_time": "2021-05-04T23:05:57.414877",
     "exception": false,
     "start_time": "2021-05-04T23:05:57.204943",
     "status": "completed"
    },
    "tags": []
   },
   "outputs": [
    {
     "name": "stderr",
     "output_type": "stream",
     "text": [
      "/opt/conda/lib/python3.7/site-packages/seaborn/_decorators.py:43: FutureWarning: Pass the following variable as a keyword arg: x. From version 0.12, the only valid positional argument will be `data`, and passing other arguments without an explicit keyword will result in an error or misinterpretation.\n",
      "  FutureWarning\n"
     ]
    },
    {
     "data": {
      "text/plain": [
       "<AxesSubplot:xlabel='spam', ylabel='count'>"
      ]
     },
     "execution_count": 6,
     "metadata": {},
     "output_type": "execute_result"
    },
    {
     "data": {
      "image/png": "[encoded data removed]",
      "text/plain": [
       "<Figure size 432x288 with 1 Axes>"
      ]
     },
     "metadata": {
      "needs_background": "light"
     },
     "output_type": "display_data"
    }
   ],
   "source": [
    "sns.countplot(df['spam'])\n"
   ]
  },
  {
   "cell_type": "markdown",
   "id": "similar-pursuit",
   "metadata": {
    "papermill": {
     "duration": 0.02123,
     "end_time": "2021-05-04T23:05:57.454645",
     "exception": false,
     "start_time": "2021-05-04T23:05:57.433415",
     "status": "completed"
    },
    "tags": []
   },
   "source": [
    "******converting Text  it into Array***`*"
   ]
  },
  {
   "cell_type": "code",
   "execution_count": 7,
   "id": "sorted-receipt",
   "metadata": {
    "execution": {
     "iopub.execute_input": "2021-05-04T23:05:57.505028Z",
     "iopub.status.busy": "2021-05-04T23:05:57.504206Z",
     "iopub.status.idle": "2021-05-04T23:05:58.024368Z",
     "shell.execute_reply": "2021-05-04T23:05:58.022984Z"
    },
    "papermill": {
     "duration": 0.548236,
     "end_time": "2021-05-04T23:05:58.024566",
     "exception": false,
     "start_time": "2021-05-04T23:05:57.476330",
     "status": "completed"
    },
    "tags": []
   },
   "outputs": [
    {
     "name": "stdout",
     "output_type": "stream",
     "text": [
      "[[0 0 0 ... 0 0 0]\n",
      " [0 0 0 ... 0 0 0]\n",
      " [0 0 0 ... 0 0 0]\n",
      " ...\n",
      " [0 0 0 ... 0 0 0]\n",
      " [0 0 0 ... 0 0 0]\n",
      " [0 0 0 ... 0 0 0]]\n"
     ]
    }
   ],
   "source": [
    "import sklearn \n",
    "from sklearn.feature_extraction.text import CountVectorizer\n",
    "a= CountVectorizer()\n",
    "d = a.fit_transform(df['text'])\n",
    "print(d.toarray())"
   ]
  },
  {
   "cell_type": "markdown",
   "id": "processed-tsunami",
   "metadata": {
    "papermill": {
     "duration": 0.023149,
     "end_time": "2021-05-04T23:05:58.070357",
     "exception": false,
     "start_time": "2021-05-04T23:05:58.047208",
     "status": "completed"
    },
    "tags": []
   },
   "source": [
    "***Check and test , whether it can detect given  sentences are ham or spam*******"
   ]
  },
  {
   "cell_type": "code",
   "execution_count": 8,
   "id": "global-cooling",
   "metadata": {
    "execution": {
     "iopub.execute_input": "2021-05-04T23:05:58.121470Z",
     "iopub.status.busy": "2021-05-04T23:05:58.120667Z",
     "iopub.status.idle": "2021-05-04T23:05:58.159147Z",
     "shell.execute_reply": "2021-05-04T23:05:58.158389Z"
    },
    "papermill": {
     "duration": 0.068959,
     "end_time": "2021-05-04T23:05:58.159324",
     "exception": false,
     "start_time": "2021-05-04T23:05:58.090365",
     "status": "completed"
    },
    "tags": []
   },
   "outputs": [
    {
     "data": {
      "text/plain": [
       "array(['spam', 'ham'], dtype='<U4')"
      ]
     },
     "execution_count": 8,
     "metadata": {},
     "output_type": "execute_result"
    }
   ],
   "source": [
    "label = df['spam'].values\n",
    "\n",
    "from sklearn.naive_bayes import MultinomialNB\n",
    "NB= MultinomialNB()\n",
    "NB.fit(d, label)\n",
    "test= [' Free entry in cinema  ', 'even my brother speak to Him']\n",
    "testing = a.transform(test)\n",
    "ham_or_spam =NB.predict(testing )\n",
    "ham_or_spam"
   ]
  },
  {
   "cell_type": "markdown",
   "id": "stylish-volunteer",
   "metadata": {
    "papermill": {
     "duration": 0.018217,
     "end_time": "2021-05-04T23:05:58.196028",
     "exception": false,
     "start_time": "2021-05-04T23:05:58.177811",
     "status": "completed"
    },
    "tags": []
   },
   "source": [
    "*** split the dataset into training and testing and sort out the model prediction  then plot its confusion matrix ***"
   ]
  },
  {
   "cell_type": "code",
   "execution_count": 9,
   "id": "intense-grammar",
   "metadata": {
    "execution": {
     "iopub.execute_input": "2021-05-04T23:05:58.243418Z",
     "iopub.status.busy": "2021-05-04T23:05:58.242481Z",
     "iopub.status.idle": "2021-05-04T23:05:58.610618Z",
     "shell.execute_reply": "2021-05-04T23:05:58.610009Z"
    },
    "papermill": {
     "duration": 0.396215,
     "end_time": "2021-05-04T23:05:58.610818",
     "exception": false,
     "start_time": "2021-05-04T23:05:58.214603",
     "status": "completed"
    },
    "tags": []
   },
   "outputs": [
    {
     "data": {
      "text/plain": [
       "<AxesSubplot:>"
      ]
     },
     "execution_count": 9,
     "metadata": {},
     "output_type": "execute_result"
    },
    {
     "data": {
      "image/png": "[encoded data removed]",
      "text/plain": [
       "<Figure size 432x288 with 2 Axes>"
      ]
     },
     "metadata": {
      "needs_background": "light"
     },
     "output_type": "display_data"
    }
   ],
   "source": [
    "X = d\n",
    "y = label \n",
    "y.shape\n",
    "\n",
    "from sklearn.model_selection import train_test_split\n",
    "X_train, X_test, y_train, y_test = train_test_split(X, y,  test_size = 0.2)\n",
    "from sklearn.naive_bayes import MultinomialNB \n",
    "e = MultinomialNB()\n",
    "e.fit( X_train, y_train)\n",
    "from sklearn.metrics import classification_report , confusion_matrix\n",
    "predict= e.predict (X_train)\n",
    "cm = confusion_matrix(y_train, predict)\n",
    "sns.heatmap(cm, annot= True )"
   ]
  },
  {
   "cell_type": "markdown",
   "id": "unable-parade",
   "metadata": {
    "papermill": {
     "duration": 0.021495,
     "end_time": "2021-05-04T23:05:58.652491",
     "exception": false,
     "start_time": "2021-05-04T23:05:58.630996",
     "status": "completed"
    },
    "tags": []
   },
   "source": [
    "**now check model performance for testing part **"
   ]
  },
  {
   "cell_type": "code",
   "execution_count": 10,
   "id": "fossil-gabriel",
   "metadata": {
    "execution": {
     "iopub.execute_input": "2021-05-04T23:05:58.706386Z",
     "iopub.status.busy": "2021-05-04T23:05:58.705191Z",
     "iopub.status.idle": "2021-05-04T23:05:58.909621Z",
     "shell.execute_reply": "2021-05-04T23:05:58.909045Z"
    },
    "papermill": {
     "duration": 0.235998,
     "end_time": "2021-05-04T23:05:58.909816",
     "exception": false,
     "start_time": "2021-05-04T23:05:58.673818",
     "status": "completed"
    },
    "tags": []
   },
   "outputs": [
    {
     "data": {
      "text/plain": [
       "array([[953,  13],\n",
       "       [  8, 141]])"
      ]
     },
     "execution_count": 10,
     "metadata": {},
     "output_type": "execute_result"
    },
    {
     "data": {
      "image/png": "[encoded data removed]",
      "text/plain": [
       "<Figure size 432x288 with 2 Axes>"
      ]
     },
     "metadata": {
      "needs_background": "light"
     },
     "output_type": "display_data"
    }
   ],
   "source": [
    "test_predict= e.predict (X_test)\n",
    "cm = confusion_matrix(y_test, test_predict)\n",
    "sns.heatmap(cm, annot= True )\n",
    "cm"
   ]
  },
  {
   "cell_type": "markdown",
   "id": "individual-bride",
   "metadata": {
    "papermill": {
     "duration": 0.021275,
     "end_time": "2021-05-04T23:05:58.955174",
     "exception": false,
     "start_time": "2021-05-04T23:05:58.933899",
     "status": "completed"
    },
    "tags": []
   },
   "source": [
    "**classification Report ****"
   ]
  },
  {
   "cell_type": "code",
   "execution_count": 11,
   "id": "following-virtue",
   "metadata": {
    "execution": {
     "iopub.execute_input": "2021-05-04T23:05:59.012223Z",
     "iopub.status.busy": "2021-05-04T23:05:59.011062Z",
     "iopub.status.idle": "2021-05-04T23:05:59.062049Z",
     "shell.execute_reply": "2021-05-04T23:05:59.061214Z"
    },
    "papermill": {
     "duration": 0.084244,
     "end_time": "2021-05-04T23:05:59.062265",
     "exception": false,
     "start_time": "2021-05-04T23:05:58.978021",
     "status": "completed"
    },
    "tags": []
   },
   "outputs": [
    {
     "name": "stdout",
     "output_type": "stream",
     "text": [
      "              precision    recall  f1-score   support\n",
      "\n",
      "         ham       0.99      0.99      0.99       966\n",
      "        spam       0.92      0.95      0.93       149\n",
      "\n",
      "    accuracy                           0.98      1115\n",
      "   macro avg       0.95      0.97      0.96      1115\n",
      "weighted avg       0.98      0.98      0.98      1115\n",
      "\n"
     ]
    }
   ],
   "source": [
    "print(classification_report(y_test, test_predict))"
   ]
  },
  {
   "cell_type": "markdown",
   "id": "included-seventh",
   "metadata": {
    "papermill": {
     "duration": 0.02327,
     "end_time": "2021-05-04T23:05:59.108470",
     "exception": false,
     "start_time": "2021-05-04T23:05:59.085200",
     "status": "completed"
    },
    "tags": []
   },
   "source": []
  },
  {
   "cell_type": "markdown",
   "id": "median-miami",
   "metadata": {
    "papermill": {
     "duration": 0.021355,
     "end_time": "2021-05-04T23:05:59.151467",
     "exception": false,
     "start_time": "2021-05-04T23:05:59.130112",
     "status": "completed"
    },
    "tags": []
   },
   "source": []
  }
 ],
 "metadata": {
  "kernelspec": {
   "display_name": "Python 3",
   "language": "python",
   "name": "python3"
  },
  "language_info": {
   "codemirror_mode": {
    "name": "ipython",
    "version": 3
   },
   "file_extension": ".py",
   "mimetype": "text/x-python",
   "name": "python",
   "nbconvert_exporter": "python",
   "pygments_lexer": "ipython3",
   "version": "3.7.10"
  },
  "papermill": {
   "default_parameters": {},
   "duration": 17.24445,
   "end_time": "2021-05-04T23:06:01.013398",
   "environment_variables": {},
   "exception": null,
   "input_path": "__notebook__.ipynb",
   "output_path": "__notebook__.ipynb",
   "parameters": {},
   "start_time": "2021-05-04T23:05:43.768948",
   "version": "2.3.3"
  }
 },
 "nbformat": 4,
 "nbformat_minor": 5
}
